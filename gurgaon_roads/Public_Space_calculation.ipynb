{
 "cells": [
  {
   "cell_type": "code",
   "execution_count": 19,
   "metadata": {
    "collapsed": true
   },
   "outputs": [],
   "source": [
    "from PIL import Image"
   ]
  },
  {
   "cell_type": "code",
   "execution_count": 20,
   "metadata": {
    "collapsed": true
   },
   "outputs": [],
   "source": [
    "# intitialize empty arrays to store pixel counts in\n",
    "roads = []\n",
    "private = []\n",
    "total = []"
   ]
  },
  {
   "cell_type": "code",
   "execution_count": 21,
   "metadata": {
    "collapsed": false
   },
   "outputs": [],
   "source": [
    "def count_roads(fname):\n",
    "    # function to count the number of black vs. white pixels in an image.  this is \n",
    "    # for images of a map grabbed from Google Maps via the \"Roadie\" Snazzy Map theme\n",
    "    # https://mapbuildr.com/buildr\n",
    "    im = Image.open(fname)\n",
    "    black=0\n",
    "    white=0\n",
    "\n",
    "    for pixel in im.getdata():\n",
    "    # convert file to an array of tuples.  tuples contain each pixel's RGB value\n",
    "        if pixel == (0,0,0,255):\n",
    "            black+=1\n",
    "        else:\n",
    "            white+=1\n",
    "    #save the number of white pixels, black pixels, and total pixels in image for calculations\n",
    "    roads.append(black)\n",
    "    private.append(white)\n",
    "    total.append(white)\n",
    "    total.append(black)\n",
    "    \n",
    "    #print white / black RGB values for sanity check\n",
    "#     print(black)\n",
    "#     print(white)\n",
    "\n"
   ]
  },
  {
   "cell_type": "code",
   "execution_count": 22,
   "metadata": {
    "collapsed": false
   },
   "outputs": [],
   "source": [
    "files = ('gurgaon1.png', 'gurgaon2.png', 'gurgaon3.png', 'gurgaon4.png')"
   ]
  },
  {
   "cell_type": "code",
   "execution_count": 23,
   "metadata": {
    "collapsed": false
   },
   "outputs": [],
   "source": [
    "for i in files:\n",
    "    count_roads(i)"
   ]
  },
  {
   "cell_type": "code",
   "execution_count": 24,
   "metadata": {
    "collapsed": false
   },
   "outputs": [
    {
     "name": "stdout",
     "output_type": "stream",
     "text": [
      "In Gurgaon, India, the percentage of land that is devoted to roads / public space, \n",
      "not including parks, is:     8.32\n"
     ]
    }
   ],
   "source": [
    "road_space = sum(roads) / sum(total)\n",
    "\n",
    "print('In Gurgaon, India, the percentage of land that is devoted to roads / public space, \\n\\\n",
    "not including parks, is: %8.2f' % (road_space*100))"
   ]
  }
 ],
 "metadata": {
  "kernelspec": {
   "display_name": "Python 3",
   "language": "python",
   "name": "python3"
  },
  "language_info": {
   "codemirror_mode": {
    "name": "ipython",
    "version": 3
   },
   "file_extension": ".py",
   "mimetype": "text/x-python",
   "name": "python",
   "nbconvert_exporter": "python",
   "pygments_lexer": "ipython3",
   "version": "3.5.1"
  }
 },
 "nbformat": 4,
 "nbformat_minor": 0
}
